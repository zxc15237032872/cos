{
 "cells": [
  {
   "cell_type": "code",
   "execution_count": 1,
   "metadata": {},
   "outputs": [
    {
     "ename": "TypeError",
     "evalue": "__call__() missing 1 required positional argument: 'images'",
     "output_type": "error",
     "traceback": [
      "\u001B[1;31m---------------------------------------------------------------------------\u001B[0m",
      "\u001B[1;31mTypeError\u001B[0m                                 Traceback (most recent call last)",
      "Cell \u001B[1;32mIn[1], line 38\u001B[0m\n\u001B[0;32m     34\u001B[0m     \u001B[38;5;28;01mreturn\u001B[39;00m similarity\n\u001B[0;32m     37\u001B[0m \u001B[38;5;66;03m# 提取两张图片的特征向量\u001B[39;00m\n\u001B[1;32m---> 38\u001B[0m image1_features \u001B[38;5;241m=\u001B[39m \u001B[43mextract_dinov2_features\u001B[49m\u001B[43m(\u001B[49m\u001B[38;5;124;43m'\u001B[39;49m\u001B[38;5;124;43m004A.png\u001B[39;49m\u001B[38;5;124;43m'\u001B[39;49m\u001B[43m)\u001B[49m\n\u001B[0;32m     39\u001B[0m image2_features \u001B[38;5;241m=\u001B[39m extract_dinov2_features(\u001B[38;5;124m'\u001B[39m\u001B[38;5;124m0041.png\u001B[39m\u001B[38;5;124m'\u001B[39m)\n\u001B[0;32m     41\u001B[0m \u001B[38;5;66;03m# 计算余弦相似度\u001B[39;00m\n",
      "Cell \u001B[1;32mIn[1], line 22\u001B[0m, in \u001B[0;36mextract_dinov2_features\u001B[1;34m(image_path)\u001B[0m\n\u001B[0;32m     19\u001B[0m image_processor \u001B[38;5;241m=\u001B[39m AutoImageProcessor\u001B[38;5;241m.\u001B[39mfrom_pretrained(\u001B[38;5;124m\"\u001B[39m\u001B[38;5;124mfacebook/dinov2-base\u001B[39m\u001B[38;5;124m\"\u001B[39m, cache_dir\u001B[38;5;241m=\u001B[39mcache_dir)\n\u001B[0;32m     20\u001B[0m model \u001B[38;5;241m=\u001B[39m AutoModel\u001B[38;5;241m.\u001B[39mfrom_pretrained(\u001B[38;5;124m\"\u001B[39m\u001B[38;5;124mfacebook/dinov2-base\u001B[39m\u001B[38;5;124m\"\u001B[39m, cache_dir\u001B[38;5;241m=\u001B[39mcache_dir)\n\u001B[1;32m---> 22\u001B[0m img \u001B[38;5;241m=\u001B[39m \u001B[43mimage_processor\u001B[49m\u001B[43m(\u001B[49m\u001B[43mimage_path\u001B[49m\u001B[38;5;241;43m=\u001B[39;49m\u001B[43mimage_path\u001B[49m\u001B[43m,\u001B[49m\u001B[43m \u001B[49m\u001B[43mreturn_tensors\u001B[49m\u001B[38;5;241;43m=\u001B[39;49m\u001B[38;5;124;43m'\u001B[39;49m\u001B[38;5;124;43mpt\u001B[39;49m\u001B[38;5;124;43m'\u001B[39;49m\u001B[43m)\u001B[49m\n\u001B[0;32m     23\u001B[0m \u001B[38;5;28;01mwith\u001B[39;00m torch\u001B[38;5;241m.\u001B[39mno_grad():\n\u001B[0;32m     24\u001B[0m     outputs \u001B[38;5;241m=\u001B[39m model(\u001B[38;5;241m*\u001B[39m\u001B[38;5;241m*\u001B[39mimg)\n",
      "\u001B[1;31mTypeError\u001B[0m: __call__() missing 1 required positional argument: 'images'"
     ]
    }
   ],
   "source": [
    "import torch\n",
    "from transformers import AutoImageProcessor, AutoModel\n",
    "import numpy as np\n",
    "from huggingface_hub import hf_hub_download  # 用于获取下载进度显示\n",
    "import os\n",
    "\n",
    "\n",
    "def extract_dinov2_features(image_path):\n",
    "    cache_dir = \"D:\\\\soft\\\\huggingface\\\\transformers\"  # 你的下载路径\n",
    "    # 确保路径存在\n",
    "    if not os.path.exists(cache_dir):\n",
    "        os.makedirs(cache_dir)\n",
    "\n",
    "    # 下载模型配置文件并显示进度条\n",
    "    config_file = hf_hub_download(repo_id=\"facebook/dinov2-base\", filename=\"config.json\", cache_dir=cache_dir)\n",
    "    # 下载模型权重文件并显示进度条\n",
    "    weights_file = hf_hub_download(repo_id=\"facebook/dinov2-base\", filename=\"pytorch_model.bin\", cache_dir=cache_dir)\n",
    "\n",
    "    image_processor = AutoImageProcessor.from_pretrained(\"facebook/dinov2-base\", cache_dir=cache_dir)\n",
    "    model = AutoModel.from_pretrained(\"facebook/dinov2-base\", cache_dir=cache_dir)\n",
    "\n",
    "    img = image_processor(image_path=image_path, return_tensors='pt')\n",
    "    with torch.no_grad():\n",
    "        outputs = model(**img)\n",
    "    embedding = outputs.last_hidden_state[:, 0, :].squeeze(1)\n",
    "    return embedding.numpy()\n",
    "\n",
    "\n",
    "def calculate_cosine_similarity(vec1, vec2):\n",
    "    dot_product = np.dot(vec1, vec2)\n",
    "    norm_vec1 = np.linalg.norm(vec1)\n",
    "    norm_vec2 = np.linalg.norm(vec2)\n",
    "    similarity = dot_product / (norm_vec1 * norm_vec2)\n",
    "    return similarity\n",
    "\n",
    "\n",
    "# 提取两张图片的特征向量\n",
    "image1_features = extract_dinov2_features('004A.png')\n",
    "image2_features = extract_dinov2_features('0041.png')\n",
    "\n",
    "# 计算余弦相似度\n",
    "similarity_score = calculate_cosine_similarity(image1_features, image2_features)\n",
    "print(f\"两张图片的余弦相似度为: {similarity_score}\")\n",
    "\n",
    "# 判断是否改装，这里假设相似度低于0.8就认为可能存在改装\n",
    "threshold = 0.8\n",
    "if similarity_score < threshold:\n",
    "    print(\"参照002.png，001.png对应的轮毂可能存在改装\")\n",
    "else:\n",
    "    print(\"参照002.png，001.png对应的轮毂不太可能存在改装\")"
   ]
  },
  {
   "cell_type": "code",
   "execution_count": null,
   "metadata": {},
   "outputs": [],
   "source": []
  }
 ],
 "metadata": {
  "kernelspec": {
   "display_name": "Python 3 (ipykernel)",
   "language": "python",
   "name": "python3"
  },
  "language_info": {
   "codemirror_mode": {
    "name": "ipython",
    "version": 3
   },
   "file_extension": ".py",
   "mimetype": "text/x-python",
   "name": "python",
   "nbconvert_exporter": "python",
   "pygments_lexer": "ipython3",
   "version": "3.9.19"
  }
 },
 "nbformat": 4,
 "nbformat_minor": 4
}