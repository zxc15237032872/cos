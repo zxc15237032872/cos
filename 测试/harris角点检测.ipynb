{
 "cells": [
  {
   "cell_type": "code",
   "execution_count": null,
   "metadata": {
    "collapsed": true
   },
   "outputs": [],
   "source": [
    "import cv2\n",
    "import numpy as np\n",
    "import matplotlib.pyplot as plt\n",
    "import matplotlib\n",
    "matplotlib.use('TkAgg')\n",
    "import matplotlib.pyplot as plt\n",
    "\n",
    "\n",
    "def harris_corner_detection():\n",
    "    # 读取图像\n",
    "    img = cv2.imread('D:/2024study/project/car/cos/image/网格图.jpg')    # 转换为灰度图像\n",
    "    gray = cv2.cvtColor(img, cv2.COLOR_BGR2GRAY)\n",
    "    gray = np.float32(gray)\n",
    "\n",
    "    # Harris角点检测\n",
    "    dst = cv2.cornerHarris(gray, 2, 3, 0.04)\n",
    "\n",
    "    # 结果进行膨胀，便于标记角点\n",
    "    dst = cv2.dilate(dst, None)\n",
    "\n",
    "    # 设定阈值，标记角点\n",
    "    img[dst > 0.01 * dst.max()] = [0, 0, 255]\n",
    "\n",
    "    plt.imshow(cv2.cvtColor(img, cv2.COLOR_BGR2RGB))\n",
    "    plt.title('Harris Corner Detection')\n",
    "    plt.axis('off')\n",
    "    plt.show()\n",
    "\n",
    "\n",
    "if __name__ == \"__main__\":\n",
    "    harris_corner_detection()"
   ]
  }
 ],
 "metadata": {
  "kernelspec": {
   "display_name": "Python 3",
   "language": "python",
   "name": "python3"
  },
  "language_info": {
   "codemirror_mode": {
    "name": "ipython",
    "version": 2
   },
   "file_extension": ".py",
   "mimetype": "text/x-python",
   "name": "python",
   "nbconvert_exporter": "python",
   "pygments_lexer": "ipython2",
   "version": "2.7.6"
  }
 },
 "nbformat": 4,
 "nbformat_minor": 0
}